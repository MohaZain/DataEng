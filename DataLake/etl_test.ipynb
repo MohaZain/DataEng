{
 "cells": [
  {
   "cell_type": "code",
   "execution_count": 1,
   "metadata": {
    "editable": true
   },
   "outputs": [],
   "source": [
    "from pyspark.sql import SparkSession, functions as F\n",
    "import os\n",
    "import configparser"
   ]
  },
  {
   "cell_type": "code",
   "execution_count": 2,
   "metadata": {
    "editable": true
   },
   "outputs": [],
   "source": [
    "config = configparser.ConfigParser()\n",
    "config.read('dl.cfg')\n",
    "\n",
    "os.environ['AWS_ACCESS_KEY_ID']=config['AWS']['AWS_ACCESS_KEY_ID']\n",
    "os.environ['AWS_SECRET_ACCESS_KEY']=config['AWS']['AWS_SECRET_ACCESS_KEY']"
   ]
  },
  {
   "cell_type": "code",
   "execution_count": 3,
   "metadata": {
    "editable": true
   },
   "outputs": [],
   "source": [
    "spark = SparkSession \\\n",
    "        .builder \\\n",
    "        .config(\"spark.jars.packages\", \"org.apache.hadoop:hadoop-aws:2.7.0\") \\\n",
    "        .getOrCreate()"
   ]
  },
  {
   "cell_type": "code",
   "execution_count": 4,
   "metadata": {
    "editable": true
   },
   "outputs": [],
   "source": [
    "# get filepath to song data file\n",
    "input_data = 's3a://udacity-dend/'\n",
    "song_data = f'{input_data}/song_data/A/A/*/*.json'\n",
    "\n",
    "# read song data file\n",
    "df = spark.read.json(song_data)\n",
    "song_df = df"
   ]
  },
  {
   "cell_type": "code",
   "execution_count": 5,
   "metadata": {
    "editable": true
   },
   "outputs": [
    {
     "name": "stdout",
     "output_type": "stream",
     "text": [
      "root\n",
      " |-- artist_id: string (nullable = true)\n",
      " |-- artist_latitude: double (nullable = true)\n",
      " |-- artist_location: string (nullable = true)\n",
      " |-- artist_longitude: double (nullable = true)\n",
      " |-- artist_name: string (nullable = true)\n",
      " |-- duration: double (nullable = true)\n",
      " |-- num_songs: long (nullable = true)\n",
      " |-- song_id: string (nullable = true)\n",
      " |-- title: string (nullable = true)\n",
      " |-- year: long (nullable = true)\n",
      "\n"
     ]
    }
   ],
   "source": [
    "df.printSchema()\n"
   ]
  },
  {
   "cell_type": "code",
   "execution_count": 6,
   "metadata": {
    "editable": true
   },
   "outputs": [
    {
     "name": "stdout",
     "output_type": "stream",
     "text": [
      "root\n",
      " |-- song_id: string (nullable = true)\n",
      " |-- title: string (nullable = true)\n",
      " |-- artist_id: string (nullable = true)\n",
      " |-- year: long (nullable = true)\n",
      " |-- duration: double (nullable = true)\n",
      "\n"
     ]
    }
   ],
   "source": [
    "# extract columns to create songs table\n",
    "songs_table = df.select([\"song_id\",\"title\",\"artist_id\",\"year\",\"duration\"]).dropDuplicates()\n",
    "songs_table.printSchema()\n",
    "\n",
    "# write songs table to parquet files partitioned by year and artist\n",
    "songs_table.write.partitionBy(\"year\", \"artist_id\").mode('overwrite').parquet(\"s3a://datalakedendudacity1/test/songs.parquet\")"
   ]
  },
  {
   "cell_type": "code",
   "execution_count": 26,
   "metadata": {
    "editable": true
   },
   "outputs": [
    {
     "name": "stdout",
     "output_type": "stream",
     "text": [
      "root\n",
      " |-- artist_id: string (nullable = true)\n",
      " |-- artist_name: string (nullable = true)\n",
      " |-- artist_location: string (nullable = true)\n",
      " |-- artist_latitude: double (nullable = true)\n",
      " |-- artist_longitude: double (nullable = true)\n",
      "\n"
     ]
    }
   ],
   "source": [
    "# extract columns to create artists table\n",
    "artists_table = song_df.select([\"artist_id\",\"artist_name\",\"artist_location\",\"artist_latitude\",\"artist_longitude\"]).dropDuplicates()\n",
    "artists_table.printSchema()\n",
    "\n",
    "# write artists table to parquet files\n",
    "artists_table.write.mode('overwrite').parquet(\"s3a://datalakedendudacity1/test/artists_table\")"
   ]
  },
  {
   "cell_type": "code",
   "execution_count": 8,
   "metadata": {
    "editable": true
   },
   "outputs": [],
   "source": [
    "# get filepath to log data file\n",
    "log_data = f'{input_data}/log_data/*/*/*.json'\n",
    "\n",
    "# read log data file\n",
    "df = spark.read.json(log_data)\n",
    "\n",
    "# filter by actions for song plays\n",
    "df = df.filter(df.page == 'NextSong')"
   ]
  },
  {
   "cell_type": "code",
   "execution_count": 9,
   "metadata": {
    "editable": true
   },
   "outputs": [
    {
     "name": "stdout",
     "output_type": "stream",
     "text": [
      "root\n",
      " |-- artist: string (nullable = true)\n",
      " |-- auth: string (nullable = true)\n",
      " |-- firstName: string (nullable = true)\n",
      " |-- gender: string (nullable = true)\n",
      " |-- itemInSession: long (nullable = true)\n",
      " |-- lastName: string (nullable = true)\n",
      " |-- length: double (nullable = true)\n",
      " |-- level: string (nullable = true)\n",
      " |-- location: string (nullable = true)\n",
      " |-- method: string (nullable = true)\n",
      " |-- page: string (nullable = true)\n",
      " |-- registration: double (nullable = true)\n",
      " |-- sessionId: long (nullable = true)\n",
      " |-- song: string (nullable = true)\n",
      " |-- status: long (nullable = true)\n",
      " |-- ts: long (nullable = true)\n",
      " |-- userAgent: string (nullable = true)\n",
      " |-- userId: string (nullable = true)\n",
      "\n"
     ]
    }
   ],
   "source": [
    "df.printSchema()"
   ]
  },
  {
   "cell_type": "code",
   "execution_count": 10,
   "metadata": {
    "editable": true
   },
   "outputs": [
    {
     "name": "stdout",
     "output_type": "stream",
     "text": [
      "root\n",
      " |-- userId: string (nullable = true)\n",
      " |-- firstName: string (nullable = true)\n",
      " |-- lastName: string (nullable = true)\n",
      " |-- gender: string (nullable = true)\n",
      " |-- level: string (nullable = true)\n",
      "\n"
     ]
    }
   ],
   "source": [
    "# extract columns for users table    \n",
    "users_table = df.select([\"userId\",\"firstName\",\"lastName\",\"gender\",\"level\"]).dropDuplicates()\n",
    "users_table.printSchema()\n",
    "\n",
    "# write users table to parquet files\n",
    "users_table.write.mode('overwrite').parquet(\"s3a://datalakedendudacity1/test/songs.parquet\")"
   ]
  },
  {
   "cell_type": "code",
   "execution_count": 11,
   "metadata": {
    "editable": true
   },
   "outputs": [
    {
     "name": "stdout",
     "output_type": "stream",
     "text": [
      "root\n",
      " |-- artist: string (nullable = true)\n",
      " |-- auth: string (nullable = true)\n",
      " |-- firstName: string (nullable = true)\n",
      " |-- gender: string (nullable = true)\n",
      " |-- itemInSession: long (nullable = true)\n",
      " |-- lastName: string (nullable = true)\n",
      " |-- length: double (nullable = true)\n",
      " |-- level: string (nullable = true)\n",
      " |-- location: string (nullable = true)\n",
      " |-- method: string (nullable = true)\n",
      " |-- page: string (nullable = true)\n",
      " |-- registration: double (nullable = true)\n",
      " |-- sessionId: long (nullable = true)\n",
      " |-- song: string (nullable = true)\n",
      " |-- status: long (nullable = true)\n",
      " |-- ts: long (nullable = true)\n",
      " |-- userAgent: string (nullable = true)\n",
      " |-- userId: string (nullable = true)\n",
      " |-- start_time: timestamp (nullable = true)\n",
      "\n",
      "+--------------------+\n",
      "|          start_time|\n",
      "+--------------------+\n",
      "|2018-11-15 00:30:...|\n",
      "|2018-11-15 00:41:...|\n",
      "|2018-11-15 00:45:...|\n",
      "|2018-11-15 03:44:...|\n",
      "|2018-11-15 05:48:...|\n",
      "+--------------------+\n",
      "only showing top 5 rows\n",
      "\n"
     ]
    }
   ],
   "source": [
    "# create timestamp column from original timestamp column\n",
    "df = df.withColumn(\"start_time\", F.to_timestamp(df.ts/1000))\n",
    "\n",
    "# create datetime column from original timestamp column\n",
    "df.printSchema()\n",
    "df.select(\"start_time\").show(5)"
   ]
  },
  {
   "cell_type": "code",
   "execution_count": 12,
   "metadata": {
    "editable": true
   },
   "outputs": [
    {
     "name": "stdout",
     "output_type": "stream",
     "text": [
      "+--------------------+----+---+----+-----+----+\n",
      "|          start_time|hour|day|week|month|year|\n",
      "+--------------------+----+---+----+-----+----+\n",
      "|2018-11-15 18:03:...|  18|  5|  46|   11|2018|\n",
      "|2018-11-21 18:02:...|  18|  4|  47|   11|2018|\n",
      "|2018-11-21 19:48:...|  19|  4|  47|   11|2018|\n",
      "|2018-11-14 05:08:...|   5|  4|  46|   11|2018|\n",
      "|2018-11-14 06:04:...|   6|  4|  46|   11|2018|\n",
      "+--------------------+----+---+----+-----+----+\n",
      "only showing top 5 rows\n",
      "\n"
     ]
    }
   ],
   "source": [
    "# extract columns to create time table\n",
    "\n",
    "time_table = df.select(\"start_time\")\\\n",
    "            .withColumn(\"hour\", F.hour(\"start_time\"))\\\n",
    "            .withColumn(\"day\", F.dayofweek(\"start_time\"))\\\n",
    "            .withColumn(\"week\", F.weekofyear(\"start_time\"))\\\n",
    "            .withColumn(\"month\", F.month(\"start_time\"))\\\n",
    "            .withColumn(\"year\", F.year(\"start_time\"))\\\n",
    "            .dropDuplicates()\n",
    "\n",
    "time_table.show(5)\n",
    "\n",
    "# write time table to parquet files partitioned by year and month\n",
    "time_table.write.partitionBy(\"year\", \"month\").mode('overwrite').parquet(\"s3a://datalakedendudacity1/test/songs.parquet\")"
   ]
  },
  {
   "cell_type": "code",
   "execution_count": 13,
   "metadata": {
    "editable": true
   },
   "outputs": [],
   "source": [
    "# read in song data to use for songplays table\n",
    "# song_df = spark.read.json(song_data)\n",
    "\n",
    "song_df.createOrReplaceTempView(\"songs_table\")\n",
    "df.createOrReplaceTempView(\"log_table\")\n",
    "\n",
    "# extract columns from joined song and log datasets to create songplays table \n",
    "songplays_table = spark.sql(\"\"\"\n",
    "          SELECT SE.ts, \n",
    "            SE.userId,\n",
    "            SE.level, \n",
    "            SS.song_id,                      \n",
    "            SS.artist_id, \n",
    "            SE.sessionId,\n",
    "            SS.artist_location,\n",
    "            SE.userAgent\n",
    "          FROM songs_table SS , log_table SE\n",
    "          WHERE SE.song = SS.title\n",
    "                AND SE.artist = SS.artist_name\n",
    "          \"\"\")"
   ]
  },
  {
   "cell_type": "code",
   "execution_count": null,
   "metadata": {
    "editable": true
   },
   "outputs": [],
   "source": [
    "# # write songplays table to parquet files partitioned by year and month\n",
    "songplays_table.select('ts')"
   ]
  },
  {
   "cell_type": "code",
   "execution_count": 14,
   "metadata": {
    "editable": true
   },
   "outputs": [
    {
     "name": "stdout",
     "output_type": "stream",
     "text": [
      "+-------------+------+-----+------------------+------------------+---------+--------------------+--------------------+\n",
      "|           ts|userId|level|           song_id|         artist_id|sessionId|     artist_location|           userAgent|\n",
      "+-------------+------+-----+------------------+------------------+---------+--------------------+--------------------+\n",
      "|1542837407796|    15| paid|SOZCTXZ12AB0182364|AR5KOSW1187FB35FF4|      818|           Dubai UAE|\"Mozilla/5.0 (X11...|\n",
      "|1541440182796|    73| paid|SOHDWWH12A6D4F7F6A|ARC0IOF1187FB3F6E6|      255|                 108|\"Mozilla/5.0 (Mac...|\n",
      "|1542148779796|    55| free|SOXQYSC12A6310E908|AR0L04E1187B9AE90C|      415|Wigan, Lancashire...|\"Mozilla/5.0 (Mac...|\n",
      "|1542378072796|    85| paid|SOLRYQR12A670215BF|ARNLO5S1187B9B80CC|      436|        Pasadena, CA|\"Mozilla/5.0 (Mac...|\n",
      "|1542735998796|    49| paid|SOCHRXB12A8AE48069|ARTDQRC1187FB4EFD4|      758|     Los Angeles, CA|Mozilla/5.0 (Wind...|\n",
      "+-------------+------+-----+------------------+------------------+---------+--------------------+--------------------+\n",
      "only showing top 5 rows\n",
      "\n"
     ]
    }
   ],
   "source": [
    "songplays_table.show(5)"
   ]
  },
  {
   "cell_type": "code",
   "execution_count": 15,
   "metadata": {
    "editable": true
   },
   "outputs": [
    {
     "name": "stdout",
     "output_type": "stream",
     "text": [
      "+--------------------+-------------+------+-----+------------------+------------------+---------+--------------------+--------------------+-----+----+\n",
      "|          start_time|           ts|userId|level|           song_id|         artist_id|sessionId|     artist_location|           userAgent|month|year|\n",
      "+--------------------+-------------+------+-----+------------------+------------------+---------+--------------------+--------------------+-----+----+\n",
      "|2018-11-21 21:56:...|1542837407796|    15| paid|SOZCTXZ12AB0182364|AR5KOSW1187FB35FF4|      818|           Dubai UAE|\"Mozilla/5.0 (X11...|   11|2018|\n",
      "|2018-11-05 17:49:...|1541440182796|    73| paid|SOHDWWH12A6D4F7F6A|ARC0IOF1187FB3F6E6|      255|                 108|\"Mozilla/5.0 (Mac...|   11|2018|\n",
      "|2018-11-13 22:39:...|1542148779796|    55| free|SOXQYSC12A6310E908|AR0L04E1187B9AE90C|      415|Wigan, Lancashire...|\"Mozilla/5.0 (Mac...|   11|2018|\n",
      "|2018-11-16 14:21:...|1542378072796|    85| paid|SOLRYQR12A670215BF|ARNLO5S1187B9B80CC|      436|        Pasadena, CA|\"Mozilla/5.0 (Mac...|   11|2018|\n",
      "|2018-11-20 17:46:...|1542735998796|    49| paid|SOCHRXB12A8AE48069|ARTDQRC1187FB4EFD4|      758|     Los Angeles, CA|Mozilla/5.0 (Wind...|   11|2018|\n",
      "+--------------------+-------------+------+-----+------------------+------------------+---------+--------------------+--------------------+-----+----+\n",
      "only showing top 5 rows\n",
      "\n"
     ]
    }
   ],
   "source": [
    "songplays_table = songplays_table.withColumn(\"start_time\", F.to_timestamp(songplays_table.ts/1000))\n",
    "\n",
    "songplays_table = songplays_table.select(['start_time','ts','userId','level','song_id','artist_id','sessionId','artist_location','userAgent']).withColumn(\"month\", F.month(\"start_time\")).withColumn(\"year\", F.year(\"start_time\"))\n",
    "songplays_table.show(5)"
   ]
  },
  {
   "cell_type": "code",
   "execution_count": null,
   "metadata": {
    "editable": true
   },
   "outputs": [],
   "source": [
    "songplays_table.write.partitionBy(\"year\", \"month\").mode('overwrite').parquet(\"s3a://datalakedendudacity1/songplays_table\")"
   ]
  },
  {
   "cell_type": "code",
   "execution_count": 19,
   "metadata": {
    "editable": true
   },
   "outputs": [
    {
     "name": "stdout",
     "output_type": "stream",
     "text": [
      "+--------------------+----+-----+\n",
      "|          start_time|year|month|\n",
      "+--------------------+----+-----+\n",
      "|2018-11-21 21:56:...|2018|   11|\n",
      "+--------------------+----+-----+\n",
      "only showing top 1 row\n",
      "\n"
     ]
    }
   ],
   "source": [
    "songplays_table.select(['start_time','year','month']).show(1)\n"
   ]
  },
  {
   "cell_type": "code",
   "execution_count": null,
   "metadata": {
    "editable": true
   },
   "outputs": [],
   "source": []
  }
 ],
 "metadata": {
  "kernelspec": {
   "display_name": "Python 3",
   "language": "python",
   "name": "python3"
  },
  "language_info": {
   "codemirror_mode": {
    "name": "ipython",
    "version": 3
   },
   "file_extension": ".py",
   "mimetype": "text/x-python",
   "name": "python",
   "nbconvert_exporter": "python",
   "pygments_lexer": "ipython3",
   "version": "3.6.3"
  }
 },
 "nbformat": 4,
 "nbformat_minor": 4
}
